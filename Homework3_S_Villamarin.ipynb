{
 "cells": [
  {
   "cell_type": "markdown",
   "metadata": {},
   "source": [
    "# Jypyter Notebooks and Python Refresh Homework 3\n",
    "We are going to do the Python Refresh Homework in a juypyter Notebook. In this homework we will review the basic principles of python programming. You will work through a few questions and build some scripts. You will need the Bloom et al Dataset found in this repository. For each question add a cell to put your answer in either as a text cell or a code cell following the question.\n",
    "\n",
    "### Markdown\n",
    "Here is a [markdown refresh](https://programminghistorian.org/en/lessons/getting-started-with-markdown)\n",
    "\n",
    "### General concepts to refresh and lessons to review if you need them:\n",
    "\n",
    "Here is a nice [Python_Refresh](https://pythonforbiologists.com/introduction) that goes over the majority of the basic python commands.\n",
    "\n",
    "Remember these Primers from Last Semester\n",
    "\n",
    "[Python_Primer1](https://github.com/tparchman/BIOL792_course_site/blob/master/week6_pythonI/python_1_primer.md) \n",
    "\n",
    "[Lists_for_loops](https://github.com/tparchman/BIOL792_course_site/blob/master/week7_pythonII/python_2_primer.md)\n",
    "\n",
    "[Input_Output](https://github.com/tparchman/BIOL792_course_site/blob/master/week8_python3/python_3_primer.md)\n",
    "\n",
    "[Dictionaries](https://github.com/tparchman/BIOL792_course_site/blob/master/week11_python6/primer_python6.md)\n",
    "\n",
    "\n",
    "### Remember these Common commands as you work through this exercise\n",
    "\tdata types\n",
    "\tlists and dictionaries \n",
    "\tif while and for loops\n",
    "\treading files\n",
    "\n"
   ]
  },
  {
   "cell_type": "markdown",
   "metadata": {},
   "source": [
    "## Part I: Questions"
   ]
  },
  {
   "cell_type": "markdown",
   "metadata": {},
   "source": [
    "1.\tName one of the basic building blocks of programming and a small definition.\n",
    "\n",
    "**Variables:** A name that holds a value and can be a number, character or series of characters."
   ]
  },
  {
   "cell_type": "markdown",
   "metadata": {},
   "source": []
  },
  {
   "cell_type": "markdown",
   "metadata": {},
   "source": [
    "2.\tMatch the data type to the appropriate data\n",
    "    \n",
    "    **Data type:** string, integer, boolean, floating point\n",
    "    \n",
    "    **Data:** true, 123, 'I am a programmer', 34.63221\n",
    "    \n",
    "    **Answer:** String: 'I am a programer'; Integer: 123; Boolean: true; Floating Point: 34.63221\n"
   ]
  },
  {
   "cell_type": "markdown",
   "metadata": {},
   "source": [
    "3.\tWhat would I get if I did tried to add these to numbers together ```123``` and ```5```.\n",
    "\t\t\n",
    "\t\ta) if the numbers were formatted as strings\n",
    "        \n",
    "            They will be concatenated not added (1235)\n",
    "\t\t\n",
    "\t\tb) if they were formatted as integers\n",
    "        \n",
    "            The result will be the sum of 123 + 5 = 128"
   ]
  },
  {
   "cell_type": "markdown",
   "metadata": {},
   "source": [
    "4.\tLists, also called vectors, are one dimensional arrays and are a series of items. From the following list what would the question ```apple_list[3]``` return?  Remember we refer to items in a list by their position. Hint – remember how computers count.\n",
    "\t\t\n",
    "\t\t```apple_list=[‘banana’,’pear’,’kumquat’,’pomegranate’,’passion fruit’]```"
   ]
  },
  {
   "cell_type": "code",
   "execution_count": 4,
   "metadata": {},
   "outputs": [
    {
     "data": {
      "text/plain": [
       "'pomegranate'"
      ]
     },
     "execution_count": 4,
     "metadata": {},
     "output_type": "execute_result"
    }
   ],
   "source": [
    "apple_list = [\"banana\", \"pear\", \"kumquat\", \"pomegranate\", \"passion fruit\"] \n",
    "#for some reason a sigle quote gave me an error.\n",
    "apple_list[3]"
   ]
  },
  {
   "cell_type": "markdown",
   "metadata": {},
   "source": [
    "**Answer:** pomegranate"
   ]
  },
  {
   "cell_type": "markdown",
   "metadata": {},
   "source": [
    "5.\tName a difference between lists and dictionaries?"
   ]
  },
  {
   "cell_type": "markdown",
   "metadata": {},
   "source": [
    "They are different data structures, a **list** stores sequence of objects in a certain order and can be modifiable after being created. On the other hand, a **dictionary** is an unordered collection of key-value pairs also called an assortative array, hash or map."
   ]
  },
  {
   "cell_type": "markdown",
   "metadata": {},
   "source": [
    "6.\tWhat would you get from this question from the following dictionary:  ```fruit_dict[‘pear’]```\n",
    "```\t\t\n",
    "\t\tfruit_dict = {}\n",
    "\t\tfruit_dict[‘apple’]=10\n",
    "\t\tfruit_dict[‘pear’] = 3\n",
    "\t\tfruit_dict[‘walnut’]=216\n",
    "```\n",
    "or in another way\n",
    "\n",
    "\n",
    "```\n",
    "fruit_dict = {\n",
    "    'apple':10,\n",
    "    'pear':3,\n",
    "    'walnut':216,\n",
    "}\n",
    "\n",
    "print(fruit_dict)\n",
    "```\n",
    "\n"
   ]
  },
  {
   "cell_type": "code",
   "execution_count": 9,
   "metadata": {
    "scrolled": true
   },
   "outputs": [
    {
     "name": "stdout",
     "output_type": "stream",
     "text": [
      "{'apple': 10, 'pear': 3, 'walnut': 216}\n"
     ]
    },
    {
     "data": {
      "text/plain": [
       "3"
      ]
     },
     "execution_count": 9,
     "metadata": {},
     "output_type": "execute_result"
    }
   ],
   "source": [
    "fruit_dict = {\n",
    "    'apple':10,\n",
    "    'pear':3,\n",
    "    'walnut':216,\n",
    "}\n",
    "\n",
    "print(fruit_dict)\n",
    "fruit_dict['pear']"
   ]
  },
  {
   "cell_type": "markdown",
   "metadata": {},
   "source": [
    "**Answer:** 3"
   ]
  },
  {
   "cell_type": "markdown",
   "metadata": {},
   "source": [
    "7.\tIn python what does the function ```.replace()``` do?"
   ]
  },
  {
   "cell_type": "markdown",
   "metadata": {},
   "source": [
    "Pyhton string method .replace() returns a copy of the string in which the occurrences have been replaced with new imput:"
   ]
  },
  {
   "cell_type": "code",
   "execution_count": 12,
   "metadata": {},
   "outputs": [
    {
     "name": "stdout",
     "output_type": "stream",
     "text": [
      "I love Ecuador\n"
     ]
    }
   ],
   "source": [
    "svc = \"I love US\"\n",
    "s = svc.replace(\"US\", \"Ecuador\")\n",
    "print (s)"
   ]
  },
  {
   "cell_type": "markdown",
   "metadata": {},
   "source": [
    "8.\tHow do you print something in python?  For example write a print statement to print “hello world!”"
   ]
  },
  {
   "cell_type": "code",
   "execution_count": 10,
   "metadata": {},
   "outputs": [
    {
     "name": "stdout",
     "output_type": "stream",
     "text": [
      "Hello world!!!\n"
     ]
    }
   ],
   "source": [
    "print (\"Hello world!!!\")"
   ]
  },
  {
   "cell_type": "markdown",
   "metadata": {},
   "source": [
    "9.\tName one place you can go to get help with python?"
   ]
  },
  {
   "cell_type": "markdown",
   "metadata": {},
   "source": [
    "Stack Overflow"
   ]
  },
  {
   "cell_type": "markdown",
   "metadata": {},
   "source": [
    "10.\tWhat is an ```if``` statement and when would you use one?"
   ]
  },
  {
   "cell_type": "markdown",
   "metadata": {},
   "source": [
    "The if statement is used for conditional execution or branching. An if statement is one of the control structures that controls the flow of the program."
   ]
  },
  {
   "cell_type": "markdown",
   "metadata": {},
   "source": [
    "11.\tFrom this list:  ```container_list = [‘can’,’jar’,’hat’]``` What would be returned from this: ```container_list[0:2]```.  Hint: Remember one number is inclusive and one exclusive."
   ]
  },
  {
   "cell_type": "code",
   "execution_count": 14,
   "metadata": {},
   "outputs": [
    {
     "data": {
      "text/plain": [
       "['can', 'jar']"
      ]
     },
     "execution_count": 14,
     "metadata": {},
     "output_type": "execute_result"
    }
   ],
   "source": [
    "container_list = [\"can\",\"jar\",\"hat\"]\n",
    "container_list[0:2]"
   ]
  },
  {
   "cell_type": "markdown",
   "metadata": {},
   "source": [
    "12.\tWhat is the difference between an ```if``` statement and a ```while``` loop?\n",
    "\n",
    "**Answer:** \n",
    "\n",
    "An if statement checks if an expression is true or false, and then runs the code inside the statement only if it is true. The code inside the loop is only run once.\n",
    "\n",
    "A while statement is a loop. Basically, it continues to execute the code in the while statement for however long the expression is true.\n"
   ]
  },
  {
   "cell_type": "markdown",
   "metadata": {},
   "source": [
    "13.\tWhat would you get with the command ```fruit_dict.keys()```  after entering this dictionary:  \n",
    "\t\tfruit_dict = {}\n",
    "\t\tfruit_dict[‘apple’]=10\n",
    "\t\tfruit_dict[‘pear’] = 3\n",
    "\t\tfruit_dict[‘walnut’]=216"
   ]
  },
  {
   "cell_type": "code",
   "execution_count": 25,
   "metadata": {},
   "outputs": [
    {
     "data": {
      "text/plain": [
       "dict_keys(['apple', 'pear', 'walnut'])"
      ]
     },
     "execution_count": 25,
     "metadata": {},
     "output_type": "execute_result"
    }
   ],
   "source": [
    "fruit_dict= {}\n",
    "\n",
    "fruit_dict['apple'] = 10\n",
    "fruit_dict['pear'] = 3\n",
    "fruit_dict['walnut'] = 216\n",
    "\n",
    "fruit_dict.keys()"
   ]
  },
  {
   "cell_type": "markdown",
   "metadata": {},
   "source": [
    "14.\tIn this statement: ```InFileName = open(InFileName, ‘r’)``` what does the ‘r’ indicate ?\n",
    "\n",
    "**Answer:** Opens an existing file for **reading** purpose."
   ]
  },
  {
   "cell_type": "markdown",
   "metadata": {},
   "source": [
    "15.\tWhat does this command do? ```Line.strip(‘\\n’)``` why would you use it when printing out lines to the screen?\n",
    "\n",
    "**Answer:** Using striip(‘\\n’) will remove any new line characters from the start and end of the string. A common use for strip(‘\\n’) is when reading text from the file - each line will be terminated by a ‘\\n’ and often you want to remove that so that you can just process the data on the line."
   ]
  },
  {
   "cell_type": "markdown",
   "metadata": {},
   "source": [
    "16.\tHow would you split a line from a csv file into a list"
   ]
  },
  {
   "cell_type": "code",
   "execution_count": null,
   "metadata": {},
   "outputs": [],
   "source": [
    "import csv\n",
    "\n",
    "f = open('data.csv')\n",
    "\n",
    "data = []\n",
    "for line in f:\n",
    "    data_line = line.rstrip().split('\\t')\n",
    "    data.append(data_line)\n",
    "\n",
    "print data"
   ]
  },
  {
   "cell_type": "markdown",
   "metadata": {},
   "source": [
    "## Part II:  Practice Scripts\n",
    "Below each question write the name of the script so I can find them. All scripts should be documented with in-line documentation."
   ]
  },
  {
   "cell_type": "markdown",
   "metadata": {},
   "source": [
    "1.\tCreate a documented python script that would \n",
    "\n",
    "\t\t**a.** take this number 112345678911234566 and count the number of 2s in the string and print out the number. \n",
    "\n",
    "\t\t**b.** take a sentence from user input, turn it all to lowercase letters and remove the spaces and count the length and print out the length.  You choose the sentence. \n"
   ]
  },
  {
   "cell_type": "code",
   "execution_count": 28,
   "metadata": {
    "scrolled": true
   },
   "outputs": [
    {
     "name": "stdout",
     "output_type": "stream",
     "text": [
      "2\n"
     ]
    }
   ],
   "source": [
    "#a Make a string\n",
    "string = \"112345678911234566\"\n",
    "print(string.count(\"2\")) #make a print statement to count all 2s in the string"
   ]
  },
  {
   "cell_type": "code",
   "execution_count": 36,
   "metadata": {},
   "outputs": [
    {
     "name": "stdout",
     "output_type": "stream",
     "text": [
      "santi loves phyton\n"
     ]
    },
    {
     "data": {
      "text/plain": [
       "'SantiLovesPHYTON'"
      ]
     },
     "execution_count": 36,
     "metadata": {},
     "output_type": "execute_result"
    }
   ],
   "source": [
    "#b Make a string\n",
    "string = 'Santi Loves PHYTON'\n",
    "print(string.lower()) #use string.lower to print lower cases\n",
    "string.replace(\" \", \"\") #use .replace to take away the spaces from the phrase"
   ]
  },
  {
   "cell_type": "code",
   "execution_count": 37,
   "metadata": {},
   "outputs": [
    {
     "name": "stdout",
     "output_type": "stream",
     "text": [
      "The length of the Array is 16\n"
     ]
    }
   ],
   "source": [
    "string2 = 'SantiLovesPHYTON'\n",
    "print(\"The length of the Array is\", len(string2)) #use len to coun the lenght in the phrase."
   ]
  },
  {
   "cell_type": "markdown",
   "metadata": {},
   "source": [
    "2.\tCreate a documented python script that will do the following two things. For each task, first write the pseudocode, comment out the pseudocode and beneath the pseudocode write the script.\n",
    "\n",
    "\t\t**a.** Create a list of numbers (any numbers you like). Then loop through the items in the list adding 1 to every number and print those numbers.\n",
    "\n",
    "\t\t**b.** Create a dictionary of animals and their sizes (make up whatever you want). Print out the keys of the dictionary. Make a list of all the animals and then write an if else statement to print out the animal name and the word “big” if the weight is over 20 grams and the word “small” if the weight is less than 20 grams. "
   ]
  },
  {
   "cell_type": "code",
   "execution_count": 65,
   "metadata": {
    "scrolled": true
   },
   "outputs": [
    {
     "name": "stdout",
     "output_type": "stream",
     "text": [
      "[0, 5, 10, 15, 20, 25, 30, 35, 40]\n"
     ]
    },
    {
     "data": {
      "text/plain": [
       "[1, 6, 11, 16, 21, 26, 31, 36, 41]"
      ]
     },
     "execution_count": 65,
     "metadata": {},
     "output_type": "execute_result"
    }
   ],
   "source": [
    "#**Answers:**\n",
    "#**a.** First create a list of 9 integers between 0 and 40, with 5 interval numbers, using the range function.\n",
    "n = [i for i in range(0, 45, 5)]\n",
    "print (n)\n",
    "[x+1 for x in n] #use this function to add 1 to each number in the list"
   ]
  },
  {
   "cell_type": "code",
   "execution_count": 70,
   "metadata": {
    "scrolled": true
   },
   "outputs": [
    {
     "name": "stdout",
     "output_type": "stream",
     "text": [
      "[1, 6, 11, 16, 21, 26, 31, 36, 41]\n"
     ]
    }
   ],
   "source": [
    "#Second option: make a list and do a for loop to add 1 to each number on the list.\n",
    "n = [0, 5, 10, 15, 20, 25, 30, 35, 40]\n",
    "for index in range(len(n)):\n",
    "    n[index] = n[index] +1\n",
    "print (n)"
   ]
  },
  {
   "cell_type": "code",
   "execution_count": 87,
   "metadata": {},
   "outputs": [
    {
     "name": "stdout",
     "output_type": "stream",
     "text": [
      "{'Dynastes': 19, 'Dichotomius': 12, 'Puma': 200, 'Orsus': 6000, 'Megasoma': 21}\n",
      "Dynastes\n",
      "Dichotomius\n",
      "Puma\n",
      "Orsus\n",
      "Megasoma\n"
     ]
    }
   ],
   "source": [
    "#b: Create a dictionary with different animal weights\n",
    "animals = {\n",
    "    \"Dynastes\": 19, \n",
    "    \"Dichotomius\": 12,\n",
    "    \"Puma\": 200,\n",
    "    \"Orsus\": 6000,\n",
    "    \"Megasoma\": 21\n",
    "}\n",
    "print (animals)\n",
    "\n",
    "#Make a list of all animals\n",
    "for animals in animals.keys():\n",
    "    print(animals)"
   ]
  },
  {
   "cell_type": "code",
   "execution_count": 88,
   "metadata": {},
   "outputs": [
    {
     "name": "stdout",
     "output_type": "stream",
     "text": [
      "Small\n",
      "Small\n",
      "Big\n",
      "Big\n",
      "Big\n"
     ]
    }
   ],
   "source": [
    "#if else statement to print out the animal name and the word “big” \n",
    "#if the weight is over 20 grams and the word “small” if the weight is less than 20 grams.\n",
    "animals = {\n",
    "    \"Dynastes\": 19, \n",
    "    \"Dichotomius\": 12,\n",
    "    \"Puma\": 200,\n",
    "    \"Orsus\": 6000,\n",
    "    \"Megasoma\": 21\n",
    "}\n",
    "\n",
    "animals2 = {} #create a new empty dictionary\n",
    "for key, value in animals.items():\n",
    "    if value < 20:  #If vaule satisfies the condition, then store it in animals2\n",
    "        print(\"Small\")\n",
    "    else:\n",
    "        print(\"Big\")"
   ]
  },
  {
   "cell_type": "markdown",
   "metadata": {},
   "source": [
    "3.\tCreate a documented python script that will open up the file “Bloom_etal_2018_Reduced_Dataset”.  Read through the file and print out the taxon name and their diadromous status. Add up all of the log body sizes and print out the total log body size for all the individuals in the file.  "
   ]
  },
  {
   "cell_type": "code",
   "execution_count": 89,
   "metadata": {},
   "outputs": [
    {
     "data": {
      "text/plain": [
       "'/Users/santiagovillamarin/Desktop/DataScienceII/Data_Science_For_Biology_II-Spring_21/Part.II_PythonProgramming'"
      ]
     },
     "execution_count": 89,
     "metadata": {},
     "output_type": "execute_result"
    }
   ],
   "source": [
    "pwd"
   ]
  },
  {
   "cell_type": "code",
   "execution_count": 107,
   "metadata": {},
   "outputs": [],
   "source": [
    "import pandas as pd\n",
    "import numpy as np\n",
    "import os"
   ]
  },
  {
   "cell_type": "code",
   "execution_count": 100,
   "metadata": {},
   "outputs": [],
   "source": [
    "bloom = pd.read_csv(\"/Users/santiagovillamarin/Desktop/DataScienceII/Data_Science_For_Biology_II-Spring_21/Part.II_PythonProgramming/Bloom_etal_2018_Reduced_Dataset.csv\")"
   ]
  },
  {
   "cell_type": "code",
   "execution_count": 101,
   "metadata": {},
   "outputs": [
    {
     "data": {
      "text/plain": [
       "Index(['taxa', 'logbodysize', 'trophic_position', 'Reg'], dtype='object')"
      ]
     },
     "execution_count": 101,
     "metadata": {},
     "output_type": "execute_result"
    }
   ],
   "source": [
    "bloom.columns"
   ]
  },
  {
   "cell_type": "code",
   "execution_count": 104,
   "metadata": {},
   "outputs": [],
   "source": [
    "bloom_DS=pd.read_csv(\"Bloom_etal_2018_Reduced_Dataset.csv\")"
   ]
  },
  {
   "cell_type": "code",
   "execution_count": 106,
   "metadata": {},
   "outputs": [
    {
     "data": {
      "text/html": [
       "<div>\n",
       "<style scoped>\n",
       "    .dataframe tbody tr th:only-of-type {\n",
       "        vertical-align: middle;\n",
       "    }\n",
       "\n",
       "    .dataframe tbody tr th {\n",
       "        vertical-align: top;\n",
       "    }\n",
       "\n",
       "    .dataframe thead th {\n",
       "        text-align: right;\n",
       "    }\n",
       "</style>\n",
       "<table border=\"1\" class=\"dataframe\">\n",
       "  <thead>\n",
       "    <tr style=\"text-align: right;\">\n",
       "      <th></th>\n",
       "      <th>taxa</th>\n",
       "      <th>logbodysize</th>\n",
       "      <th>trophic_position</th>\n",
       "      <th>Reg</th>\n",
       "    </tr>\n",
       "  </thead>\n",
       "  <tbody>\n",
       "    <tr>\n",
       "      <th>0</th>\n",
       "      <td>Alosa_alabamae</td>\n",
       "      <td>1.707570</td>\n",
       "      <td>0.431364</td>\n",
       "      <td>diadromous</td>\n",
       "    </tr>\n",
       "    <tr>\n",
       "      <th>1</th>\n",
       "      <td>Alosa_alosa</td>\n",
       "      <td>1.778151</td>\n",
       "      <td>0.556303</td>\n",
       "      <td>diadromous</td>\n",
       "    </tr>\n",
       "    <tr>\n",
       "      <th>2</th>\n",
       "      <td>Alosa_fallax</td>\n",
       "      <td>1.778151</td>\n",
       "      <td>0.556303</td>\n",
       "      <td>diadromous</td>\n",
       "    </tr>\n",
       "    <tr>\n",
       "      <th>3</th>\n",
       "      <td>Alosa_mediocris</td>\n",
       "      <td>1.778151</td>\n",
       "      <td>0.612784</td>\n",
       "      <td>diadromous</td>\n",
       "    </tr>\n",
       "    <tr>\n",
       "      <th>4</th>\n",
       "      <td>Alosa_pseudoharengus</td>\n",
       "      <td>1.602060</td>\n",
       "      <td>0.544068</td>\n",
       "      <td>diadromous</td>\n",
       "    </tr>\n",
       "  </tbody>\n",
       "</table>\n",
       "</div>"
      ],
      "text/plain": [
       "                   taxa  logbodysize  trophic_position         Reg\n",
       "0        Alosa_alabamae     1.707570          0.431364  diadromous\n",
       "1           Alosa_alosa     1.778151          0.556303  diadromous\n",
       "2          Alosa_fallax     1.778151          0.556303  diadromous\n",
       "3       Alosa_mediocris     1.778151          0.612784  diadromous\n",
       "4  Alosa_pseudoharengus     1.602060          0.544068  diadromous"
      ]
     },
     "execution_count": 106,
     "metadata": {},
     "output_type": "execute_result"
    }
   ],
   "source": [
    "bloom_DS.head()"
   ]
  },
  {
   "cell_type": "code",
   "execution_count": 115,
   "metadata": {},
   "outputs": [
    {
     "name": "stdout",
     "output_type": "stream",
     "text": [
      "                           taxa             Reg\n",
      "0                Alosa_alabamae      diadromous\n",
      "1                   Alosa_alosa      diadromous\n",
      "2                  Alosa_fallax      diadromous\n",
      "3               Alosa_mediocris      diadromous\n",
      "4          Alosa_pseudoharengus      diadromous\n",
      "5             Alosa_sapidissima      diadromous\n",
      "6      Amazonsprattus_scintilla  non-diadromous\n",
      "7              Anchoa_chamensis  non-diadromous\n",
      "8                 Anchoa_cubana  non-diadromous\n",
      "9          Anchoa_delicatissima  non-diadromous\n",
      "10          Anchoa_lamprotaenia  non-diadromous\n",
      "11              Anchoa_lyolepis  non-diadromous\n",
      "12                 Anchoa_parva  non-diadromous\n",
      "13            Anchoa_schofieldi  non-diadromous\n",
      "14        Anchovia_surinamensis  non-diadromous\n",
      "15          Anchoviella_balboae  non-diadromous\n",
      "16     Anchoviella_brevirostris  non-diadromous\n",
      "17           Anchoviella_jamesi  non-diadromous\n",
      "18   Anchoviella_lepidentostole      diadromous\n",
      "19       Anchoviella_manamensis  non-diadromous\n",
      "20       Anodontostoma_chacunda      diadromous\n",
      "21       Cetengraulis_edentulus  non-diadromous\n",
      "22  Chirocentrodon_bleekerianus  non-diadromous\n",
      "23      Clupeichthys_perakensis  non-diadromous\n",
      "24        Clupeoides_borneensis  non-diadromous\n",
      "25                 Coilia_nasus      diadromous\n",
      "26          Ehirava_fluviatilis  non-diadromous\n",
      "27        Encrasicholina_devisi  non-diadromous\n",
      "28          Engraulis_eurystole  non-diadromous\n",
      "29          Escualosa_thoracata  non-diadromous\n",
      "30          Ethmalosa_fimbriata      diadromous\n",
      "31      Gilchristella_aestuaria  non-diadromous\n",
      "32                  Hilsa_kelee      diadromous\n",
      "33         Hyperlophus_vittatus  non-diadromous\n",
      "34       Jenkinsia_lamprotaenia  non-diadromous\n",
      "35         Microthrissa_congica  non-diadromous\n",
      "36            Pellona_harroweri  non-diadromous\n",
      "37          Pellonula_leonensis      diadromous\n",
      "38              Pellonula_vorax      diadromous\n",
      "39        Potamalosa_richmondia      diadromous\n",
      "40               Ramnogaster_sp  non-diadromous\n",
      "41      Rhinosardinia_bahiensis  non-diadromous\n",
      "42           Sauvagella_robusta  non-diadromous\n",
      "43      Sierrathrissa_leonensis  non-diadromous\n",
      "44    Spratelloides_delicatulus  non-diadromous\n",
      "45           Stolephorus_waitei  non-diadromous\n",
      "46      Stolothrissa_tanganicae  non-diadromous\n",
      "47      Sundasalanx_mekongensis  non-diadromous\n",
      "48             Tenualosa_ilisha      diadromous\n",
      "49        Thryssa_cf_dussumieri  non-diadromous\n"
     ]
    }
   ],
   "source": [
    "#Read through the file and print out the taxon name and their diadromous status.\n",
    "print(bloom_DS[['taxa', 'Reg']]) #use the variables we want to visualize"
   ]
  },
  {
   "cell_type": "code",
   "execution_count": 110,
   "metadata": {},
   "outputs": [
    {
     "data": {
      "text/plain": [
       "52.079318752"
      ]
     },
     "execution_count": 110,
     "metadata": {},
     "output_type": "execute_result"
    }
   ],
   "source": [
    "#Add up all of the log body sizes and print out the total log body size for all the individuals in the file. \n",
    "np.sum(bloom_DS[\"logbodysize\"]) #use .sum to add all the values form the variable logbodysize"
   ]
  }
 ],
 "metadata": {
  "kernelspec": {
   "display_name": "Python 3",
   "language": "python",
   "name": "python3"
  },
  "language_info": {
   "codemirror_mode": {
    "name": "ipython",
    "version": 3
   },
   "file_extension": ".py",
   "mimetype": "text/x-python",
   "name": "python",
   "nbconvert_exporter": "python",
   "pygments_lexer": "ipython3",
   "version": "3.8.5"
  }
 },
 "nbformat": 4,
 "nbformat_minor": 4
}
